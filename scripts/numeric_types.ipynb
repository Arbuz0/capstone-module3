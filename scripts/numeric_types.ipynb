{
 "cells": [
  {
   "cell_type": "markdown",
   "source": [
    "# Import libraries"
   ],
   "metadata": {
    "collapsed": false
   },
   "id": "56c51bee38b06dc1"
  },
  {
   "cell_type": "code",
   "execution_count": 1,
   "id": "initial_id",
   "metadata": {
    "collapsed": true,
    "ExecuteTime": {
     "end_time": "2024-02-22T11:35:11.110362Z",
     "start_time": "2024-02-22T11:35:10.886948Z"
    }
   },
   "outputs": [],
   "source": [
    "import pandas as pd"
   ]
  },
  {
   "cell_type": "markdown",
   "source": [
    "# Load data"
   ],
   "metadata": {
    "collapsed": false
   },
   "id": "f064edc2de97e1e8"
  },
  {
   "cell_type": "code",
   "outputs": [
    {
     "data": {
      "text/plain": "          adv_id      maker genmodel genmodel_id  adv_year  adv_month   color  \\\n0        10_1$$1    Bentley   Arnage        10_1      2018          4  Silver   \n1       10_1$$10    Bentley   Arnage        10_1      2017         11  Silver   \n2       10_1$$11    Bentley   Arnage        10_1      2018          3   Green   \n3       10_1$$12    Bentley   Arnage        10_1      2018          6  Silver   \n4       10_1$$13    Bentley   Arnage        10_1      2018          4  Silver   \n...          ...        ...      ...         ...       ...        ...     ...   \n266230   97_1$$1  Westfield    Sport        97_1      2018          5  Yellow   \n266231   97_1$$2  Westfield    Sport        97_1      2018          5  Yellow   \n266232   99_1$$1      Zenos      E10        99_1      2018          3     Red   \n266233   99_1$$2      Zenos      E10        99_1      2018          3   Green   \n266234   99_1$$3      Zenos      E10        99_1      2018          5    Grey   \n\n        reg_year    body_type  run_miles  ...  engine_power annual_tax  \\\n0           2000       Saloon    60000.0  ...         450.0        NaN   \n1           2003       Saloon    38000.0  ...         450.0        NaN   \n2           2003       Saloon    69491.0  ...         450.0        NaN   \n3           2002       Saloon    52000.0  ...         450.0      315.0   \n4           2000       Saloon    53444.0  ...         450.0        NaN   \n...          ...          ...        ...  ...           ...        ...   \n266230      2006  Convertible     1800.0  ...           NaN        NaN   \n266231      2006  Convertible     2009.0  ...           NaN        NaN   \n266232      2016  Convertible        6.0  ...           NaN        NaN   \n266233      2016  Convertible     1538.0  ...           NaN        NaN   \n266234      2016  Convertible      500.0  ...           NaN        NaN   \n\n       wheelbase  height   width  length  average_mpg  top_speed  seat_num  \\\n0         3116.0  1515.0  2125.0  5390.0          NaN        NaN       5.0   \n1         3116.0  1515.0  2125.0  5390.0          NaN        NaN       5.0   \n2         3116.0  1515.0  2125.0  5390.0          NaN        NaN       5.0   \n3         3116.0  1515.0  2125.0  5390.0         13.7      179.0       5.0   \n4         3116.0  1515.0  2125.0  5390.0          NaN        NaN       5.0   \n...          ...     ...     ...     ...          ...        ...       ...   \n266230       NaN     NaN     NaN     NaN          NaN        NaN       2.0   \n266231       NaN     NaN     NaN     NaN          NaN        NaN       2.0   \n266232       NaN     NaN     NaN     NaN          NaN        NaN       2.0   \n266233       NaN     NaN     NaN     NaN          NaN        NaN       2.0   \n266234       NaN     NaN     NaN     NaN          NaN        NaN       2.0   \n\n        door_num  \n0            4.0  \n1            4.0  \n2            4.0  \n3            4.0  \n4            4.0  \n...          ...  \n266230       NaN  \n266231       NaN  \n266232       NaN  \n266233       NaN  \n266234       NaN  \n\n[266235 rows x 24 columns]",
      "text/html": "<div>\n<style scoped>\n    .dataframe tbody tr th:only-of-type {\n        vertical-align: middle;\n    }\n\n    .dataframe tbody tr th {\n        vertical-align: top;\n    }\n\n    .dataframe thead th {\n        text-align: right;\n    }\n</style>\n<table border=\"1\" class=\"dataframe\">\n  <thead>\n    <tr style=\"text-align: right;\">\n      <th></th>\n      <th>adv_id</th>\n      <th>maker</th>\n      <th>genmodel</th>\n      <th>genmodel_id</th>\n      <th>adv_year</th>\n      <th>adv_month</th>\n      <th>color</th>\n      <th>reg_year</th>\n      <th>body_type</th>\n      <th>run_miles</th>\n      <th>...</th>\n      <th>engine_power</th>\n      <th>annual_tax</th>\n      <th>wheelbase</th>\n      <th>height</th>\n      <th>width</th>\n      <th>length</th>\n      <th>average_mpg</th>\n      <th>top_speed</th>\n      <th>seat_num</th>\n      <th>door_num</th>\n    </tr>\n  </thead>\n  <tbody>\n    <tr>\n      <th>0</th>\n      <td>10_1$$1</td>\n      <td>Bentley</td>\n      <td>Arnage</td>\n      <td>10_1</td>\n      <td>2018</td>\n      <td>4</td>\n      <td>Silver</td>\n      <td>2000</td>\n      <td>Saloon</td>\n      <td>60000.0</td>\n      <td>...</td>\n      <td>450.0</td>\n      <td>NaN</td>\n      <td>3116.0</td>\n      <td>1515.0</td>\n      <td>2125.0</td>\n      <td>5390.0</td>\n      <td>NaN</td>\n      <td>NaN</td>\n      <td>5.0</td>\n      <td>4.0</td>\n    </tr>\n    <tr>\n      <th>1</th>\n      <td>10_1$$10</td>\n      <td>Bentley</td>\n      <td>Arnage</td>\n      <td>10_1</td>\n      <td>2017</td>\n      <td>11</td>\n      <td>Silver</td>\n      <td>2003</td>\n      <td>Saloon</td>\n      <td>38000.0</td>\n      <td>...</td>\n      <td>450.0</td>\n      <td>NaN</td>\n      <td>3116.0</td>\n      <td>1515.0</td>\n      <td>2125.0</td>\n      <td>5390.0</td>\n      <td>NaN</td>\n      <td>NaN</td>\n      <td>5.0</td>\n      <td>4.0</td>\n    </tr>\n    <tr>\n      <th>2</th>\n      <td>10_1$$11</td>\n      <td>Bentley</td>\n      <td>Arnage</td>\n      <td>10_1</td>\n      <td>2018</td>\n      <td>3</td>\n      <td>Green</td>\n      <td>2003</td>\n      <td>Saloon</td>\n      <td>69491.0</td>\n      <td>...</td>\n      <td>450.0</td>\n      <td>NaN</td>\n      <td>3116.0</td>\n      <td>1515.0</td>\n      <td>2125.0</td>\n      <td>5390.0</td>\n      <td>NaN</td>\n      <td>NaN</td>\n      <td>5.0</td>\n      <td>4.0</td>\n    </tr>\n    <tr>\n      <th>3</th>\n      <td>10_1$$12</td>\n      <td>Bentley</td>\n      <td>Arnage</td>\n      <td>10_1</td>\n      <td>2018</td>\n      <td>6</td>\n      <td>Silver</td>\n      <td>2002</td>\n      <td>Saloon</td>\n      <td>52000.0</td>\n      <td>...</td>\n      <td>450.0</td>\n      <td>315.0</td>\n      <td>3116.0</td>\n      <td>1515.0</td>\n      <td>2125.0</td>\n      <td>5390.0</td>\n      <td>13.7</td>\n      <td>179.0</td>\n      <td>5.0</td>\n      <td>4.0</td>\n    </tr>\n    <tr>\n      <th>4</th>\n      <td>10_1$$13</td>\n      <td>Bentley</td>\n      <td>Arnage</td>\n      <td>10_1</td>\n      <td>2018</td>\n      <td>4</td>\n      <td>Silver</td>\n      <td>2000</td>\n      <td>Saloon</td>\n      <td>53444.0</td>\n      <td>...</td>\n      <td>450.0</td>\n      <td>NaN</td>\n      <td>3116.0</td>\n      <td>1515.0</td>\n      <td>2125.0</td>\n      <td>5390.0</td>\n      <td>NaN</td>\n      <td>NaN</td>\n      <td>5.0</td>\n      <td>4.0</td>\n    </tr>\n    <tr>\n      <th>...</th>\n      <td>...</td>\n      <td>...</td>\n      <td>...</td>\n      <td>...</td>\n      <td>...</td>\n      <td>...</td>\n      <td>...</td>\n      <td>...</td>\n      <td>...</td>\n      <td>...</td>\n      <td>...</td>\n      <td>...</td>\n      <td>...</td>\n      <td>...</td>\n      <td>...</td>\n      <td>...</td>\n      <td>...</td>\n      <td>...</td>\n      <td>...</td>\n      <td>...</td>\n      <td>...</td>\n    </tr>\n    <tr>\n      <th>266230</th>\n      <td>97_1$$1</td>\n      <td>Westfield</td>\n      <td>Sport</td>\n      <td>97_1</td>\n      <td>2018</td>\n      <td>5</td>\n      <td>Yellow</td>\n      <td>2006</td>\n      <td>Convertible</td>\n      <td>1800.0</td>\n      <td>...</td>\n      <td>NaN</td>\n      <td>NaN</td>\n      <td>NaN</td>\n      <td>NaN</td>\n      <td>NaN</td>\n      <td>NaN</td>\n      <td>NaN</td>\n      <td>NaN</td>\n      <td>2.0</td>\n      <td>NaN</td>\n    </tr>\n    <tr>\n      <th>266231</th>\n      <td>97_1$$2</td>\n      <td>Westfield</td>\n      <td>Sport</td>\n      <td>97_1</td>\n      <td>2018</td>\n      <td>5</td>\n      <td>Yellow</td>\n      <td>2006</td>\n      <td>Convertible</td>\n      <td>2009.0</td>\n      <td>...</td>\n      <td>NaN</td>\n      <td>NaN</td>\n      <td>NaN</td>\n      <td>NaN</td>\n      <td>NaN</td>\n      <td>NaN</td>\n      <td>NaN</td>\n      <td>NaN</td>\n      <td>2.0</td>\n      <td>NaN</td>\n    </tr>\n    <tr>\n      <th>266232</th>\n      <td>99_1$$1</td>\n      <td>Zenos</td>\n      <td>E10</td>\n      <td>99_1</td>\n      <td>2018</td>\n      <td>3</td>\n      <td>Red</td>\n      <td>2016</td>\n      <td>Convertible</td>\n      <td>6.0</td>\n      <td>...</td>\n      <td>NaN</td>\n      <td>NaN</td>\n      <td>NaN</td>\n      <td>NaN</td>\n      <td>NaN</td>\n      <td>NaN</td>\n      <td>NaN</td>\n      <td>NaN</td>\n      <td>2.0</td>\n      <td>NaN</td>\n    </tr>\n    <tr>\n      <th>266233</th>\n      <td>99_1$$2</td>\n      <td>Zenos</td>\n      <td>E10</td>\n      <td>99_1</td>\n      <td>2018</td>\n      <td>3</td>\n      <td>Green</td>\n      <td>2016</td>\n      <td>Convertible</td>\n      <td>1538.0</td>\n      <td>...</td>\n      <td>NaN</td>\n      <td>NaN</td>\n      <td>NaN</td>\n      <td>NaN</td>\n      <td>NaN</td>\n      <td>NaN</td>\n      <td>NaN</td>\n      <td>NaN</td>\n      <td>2.0</td>\n      <td>NaN</td>\n    </tr>\n    <tr>\n      <th>266234</th>\n      <td>99_1$$3</td>\n      <td>Zenos</td>\n      <td>E10</td>\n      <td>99_1</td>\n      <td>2018</td>\n      <td>5</td>\n      <td>Grey</td>\n      <td>2016</td>\n      <td>Convertible</td>\n      <td>500.0</td>\n      <td>...</td>\n      <td>NaN</td>\n      <td>NaN</td>\n      <td>NaN</td>\n      <td>NaN</td>\n      <td>NaN</td>\n      <td>NaN</td>\n      <td>NaN</td>\n      <td>NaN</td>\n      <td>2.0</td>\n      <td>NaN</td>\n    </tr>\n  </tbody>\n</table>\n<p>266235 rows × 24 columns</p>\n</div>"
     },
     "execution_count": 2,
     "metadata": {},
     "output_type": "execute_result"
    }
   ],
   "source": [
    "cars = pd.read_csv('../data/processed_capstone_data.csv')\n",
    "cars"
   ],
   "metadata": {
    "collapsed": false,
    "ExecuteTime": {
     "end_time": "2024-02-22T11:35:11.500607Z",
     "start_time": "2024-02-22T11:35:11.131220Z"
    }
   },
   "id": "db685e783b33a068",
   "execution_count": 2
  },
  {
   "cell_type": "markdown",
   "source": [
    "# Columns info"
   ],
   "metadata": {
    "collapsed": false
   },
   "id": "af59834c0e8fedd"
  },
  {
   "cell_type": "markdown",
   "source": [
    "Columns to check:\n",
    "- adv_year\n",
    "- adv_month\n",
    "- reg_year\n",
    "- engine_size\n",
    "- seat_num\n",
    "- door_num\n",
    "- run_miles\n",
    "- price"
   ],
   "metadata": {
    "collapsed": false
   },
   "id": "b515e827aa540e76"
  },
  {
   "cell_type": "code",
   "outputs": [
    {
     "name": "stdout",
     "output_type": "stream",
     "text": [
      "<class 'pandas.core.frame.DataFrame'>\n",
      "RangeIndex: 266235 entries, 0 to 266234\n",
      "Data columns (total 24 columns):\n",
      " #   Column        Non-Null Count   Dtype  \n",
      "---  ------        --------------   -----  \n",
      " 0   adv_id        266235 non-null  object \n",
      " 1   maker         266235 non-null  object \n",
      " 2   genmodel      266235 non-null  object \n",
      " 3   genmodel_id   266235 non-null  object \n",
      " 4   adv_year      266235 non-null  int64  \n",
      " 5   adv_month     266235 non-null  int64  \n",
      " 6   color         244498 non-null  object \n",
      " 7   reg_year      266235 non-null  int64  \n",
      " 8   body_type     266216 non-null  object \n",
      " 9   run_miles     265201 non-null  float64\n",
      " 10  engine_size   265913 non-null  float64\n",
      " 11  gearbox       266085 non-null  object \n",
      " 12  fuel_type     266233 non-null  object \n",
      " 13  price         266235 non-null  float64\n",
      " 14  engine_power  264280 non-null  float64\n",
      " 15  annual_tax    219940 non-null  float64\n",
      " 16  wheelbase     257408 non-null  float64\n",
      " 17  height        265081 non-null  float64\n",
      " 18  width         265403 non-null  float64\n",
      " 19  length        265418 non-null  float64\n",
      " 20  average_mpg   225551 non-null  float64\n",
      " 21  top_speed     223877 non-null  float64\n",
      " 22  seat_num      266172 non-null  float64\n",
      " 23  door_num      265958 non-null  float64\n",
      "dtypes: float64(13), int64(3), object(8)\n",
      "memory usage: 48.7+ MB\n"
     ]
    }
   ],
   "source": [
    "cars.info()"
   ],
   "metadata": {
    "collapsed": false,
    "ExecuteTime": {
     "end_time": "2024-02-22T11:35:11.570740Z",
     "start_time": "2024-02-22T11:35:11.498734Z"
    }
   },
   "id": "38ffaca5114b6936",
   "execution_count": 3
  },
  {
   "cell_type": "markdown",
   "source": [
    "Columns with correct type:\n",
    "- adv_year (int)\n",
    "- adv_month (int)\n",
    "- reg_year (int)\n",
    "- engine_size (float)"
   ],
   "metadata": {
    "collapsed": false
   },
   "id": "7392d3b40e6dca71"
  },
  {
   "cell_type": "code",
   "outputs": [
    {
     "name": "stdout",
     "output_type": "stream",
     "text": [
      "True\n",
      "True\n",
      "True\n",
      "True\n"
     ]
    }
   ],
   "source": [
    "def check_int(df, col):\n",
    "    temp_df = df.dropna(subset=[col])\n",
    "    return all(temp_df[col].astype('int') == temp_df[col])\n",
    "\n",
    "print(check_int(cars, 'seat_num'))\n",
    "print(check_int(cars, 'door_num'))\n",
    "print(check_int(cars, 'run_miles'))\n",
    "print(check_int(cars, 'price'))"
   ],
   "metadata": {
    "collapsed": false,
    "ExecuteTime": {
     "end_time": "2024-02-22T11:35:11.672087Z",
     "start_time": "2024-02-22T11:35:11.550287Z"
    }
   },
   "id": "dec6922bb3b10341",
   "execution_count": 4
  },
  {
   "cell_type": "markdown",
   "source": [
    "Columns with correct type:\n",
    "- seat_num (int)\n",
    "- door_num (int)\n",
    "- run_miles (int)\n",
    "- price (int)"
   ],
   "metadata": {
    "collapsed": false
   },
   "id": "17ccb3770ac191c9"
  },
  {
   "cell_type": "markdown",
   "source": [
    "# Summary\n",
    "\n",
    "All numeric columns match expected data types."
   ],
   "metadata": {
    "collapsed": false
   },
   "id": "eb99b68b0d0a7975"
  }
 ],
 "metadata": {
  "kernelspec": {
   "display_name": "Python 3",
   "language": "python",
   "name": "python3"
  },
  "language_info": {
   "codemirror_mode": {
    "name": "ipython",
    "version": 2
   },
   "file_extension": ".py",
   "mimetype": "text/x-python",
   "name": "python",
   "nbconvert_exporter": "python",
   "pygments_lexer": "ipython2",
   "version": "2.7.6"
  }
 },
 "nbformat": 4,
 "nbformat_minor": 5
}
